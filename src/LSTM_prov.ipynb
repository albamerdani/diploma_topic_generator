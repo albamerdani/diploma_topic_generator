{
  "nbformat": 4,
  "nbformat_minor": 0,
  "metadata": {
    "colab": {
      "provenance": []
    },
    "kernelspec": {
      "name": "python3",
      "display_name": "Python 3"
    },
    "language_info": {
      "name": "python"
    },
    "widgets": {
      "application/vnd.jupyter.widget-state+json": {
        "01991c42394b492888e7cdbdf75af439": {
          "model_module": "@jupyter-widgets/controls",
          "model_name": "TextModel",
          "model_module_version": "1.5.0",
          "state": {
            "_dom_classes": [],
            "_model_module": "@jupyter-widgets/controls",
            "_model_module_version": "1.5.0",
            "_model_name": "TextModel",
            "_view_count": null,
            "_view_module": "@jupyter-widgets/controls",
            "_view_module_version": "1.5.0",
            "_view_name": "TextView",
            "continuous_update": true,
            "description": "Field:",
            "description_tooltip": null,
            "disabled": false,
            "layout": "IPY_MODEL_47ef4d764916400d88b7c0968d589b32",
            "placeholder": "​",
            "style": "IPY_MODEL_6f06d4d91a6d498a8ae36f9d7a80c2c3",
            "value": "web"
          }
        },
        "47ef4d764916400d88b7c0968d589b32": {
          "model_module": "@jupyter-widgets/base",
          "model_name": "LayoutModel",
          "model_module_version": "1.2.0",
          "state": {
            "_model_module": "@jupyter-widgets/base",
            "_model_module_version": "1.2.0",
            "_model_name": "LayoutModel",
            "_view_count": null,
            "_view_module": "@jupyter-widgets/base",
            "_view_module_version": "1.2.0",
            "_view_name": "LayoutView",
            "align_content": null,
            "align_items": null,
            "align_self": null,
            "border": null,
            "bottom": null,
            "display": null,
            "flex": null,
            "flex_flow": null,
            "grid_area": null,
            "grid_auto_columns": null,
            "grid_auto_flow": null,
            "grid_auto_rows": null,
            "grid_column": null,
            "grid_gap": null,
            "grid_row": null,
            "grid_template_areas": null,
            "grid_template_columns": null,
            "grid_template_rows": null,
            "height": null,
            "justify_content": null,
            "justify_items": null,
            "left": null,
            "margin": null,
            "max_height": null,
            "max_width": null,
            "min_height": null,
            "min_width": null,
            "object_fit": null,
            "object_position": null,
            "order": null,
            "overflow": null,
            "overflow_x": null,
            "overflow_y": null,
            "padding": null,
            "right": null,
            "top": null,
            "visibility": null,
            "width": null
          }
        },
        "6f06d4d91a6d498a8ae36f9d7a80c2c3": {
          "model_module": "@jupyter-widgets/controls",
          "model_name": "DescriptionStyleModel",
          "model_module_version": "1.5.0",
          "state": {
            "_model_module": "@jupyter-widgets/controls",
            "_model_module_version": "1.5.0",
            "_model_name": "DescriptionStyleModel",
            "_view_count": null,
            "_view_module": "@jupyter-widgets/base",
            "_view_module_version": "1.2.0",
            "_view_name": "StyleView",
            "description_width": ""
          }
        },
        "252a67b5f8f242d985ce65fb64ebd163": {
          "model_module": "@jupyter-widgets/controls",
          "model_name": "ButtonModel",
          "model_module_version": "1.5.0",
          "state": {
            "_dom_classes": [],
            "_model_module": "@jupyter-widgets/controls",
            "_model_module_version": "1.5.0",
            "_model_name": "ButtonModel",
            "_view_count": null,
            "_view_module": "@jupyter-widgets/controls",
            "_view_module_version": "1.5.0",
            "_view_name": "ButtonView",
            "button_style": "",
            "description": "Gjenero",
            "disabled": false,
            "icon": "",
            "layout": "IPY_MODEL_feb2fdf2b8904eea95088d67042292dd",
            "style": "IPY_MODEL_f6234c41a8594f0491bbd0a277ece686",
            "tooltip": ""
          }
        },
        "feb2fdf2b8904eea95088d67042292dd": {
          "model_module": "@jupyter-widgets/base",
          "model_name": "LayoutModel",
          "model_module_version": "1.2.0",
          "state": {
            "_model_module": "@jupyter-widgets/base",
            "_model_module_version": "1.2.0",
            "_model_name": "LayoutModel",
            "_view_count": null,
            "_view_module": "@jupyter-widgets/base",
            "_view_module_version": "1.2.0",
            "_view_name": "LayoutView",
            "align_content": null,
            "align_items": null,
            "align_self": null,
            "border": null,
            "bottom": null,
            "display": null,
            "flex": null,
            "flex_flow": null,
            "grid_area": null,
            "grid_auto_columns": null,
            "grid_auto_flow": null,
            "grid_auto_rows": null,
            "grid_column": null,
            "grid_gap": null,
            "grid_row": null,
            "grid_template_areas": null,
            "grid_template_columns": null,
            "grid_template_rows": null,
            "height": null,
            "justify_content": null,
            "justify_items": null,
            "left": null,
            "margin": null,
            "max_height": null,
            "max_width": null,
            "min_height": null,
            "min_width": null,
            "object_fit": null,
            "object_position": null,
            "order": null,
            "overflow": null,
            "overflow_x": null,
            "overflow_y": null,
            "padding": null,
            "right": null,
            "top": null,
            "visibility": null,
            "width": null
          }
        },
        "f6234c41a8594f0491bbd0a277ece686": {
          "model_module": "@jupyter-widgets/controls",
          "model_name": "ButtonStyleModel",
          "model_module_version": "1.5.0",
          "state": {
            "_model_module": "@jupyter-widgets/controls",
            "_model_module_version": "1.5.0",
            "_model_name": "ButtonStyleModel",
            "_view_count": null,
            "_view_module": "@jupyter-widgets/base",
            "_view_module_version": "1.2.0",
            "_view_name": "StyleView",
            "button_color": null,
            "font_weight": ""
          }
        },
        "0372d22df2d34f828f498deabcc39ecd": {
          "model_module": "@jupyter-widgets/output",
          "model_name": "OutputModel",
          "model_module_version": "1.0.0",
          "state": {
            "_dom_classes": [],
            "_model_module": "@jupyter-widgets/output",
            "_model_module_version": "1.0.0",
            "_model_name": "OutputModel",
            "_view_count": null,
            "_view_module": "@jupyter-widgets/output",
            "_view_module_version": "1.0.0",
            "_view_name": "OutputView",
            "layout": "IPY_MODEL_e01dbe5000884eb184b9f88f0473fd86",
            "msg_id": "",
            "outputs": [
              {
                "output_type": "stream",
                "name": "stdout",
                "text": [
                  "web application for online testing of selenium flows generation system on the\n"
                ]
              }
            ]
          }
        },
        "e01dbe5000884eb184b9f88f0473fd86": {
          "model_module": "@jupyter-widgets/base",
          "model_name": "LayoutModel",
          "model_module_version": "1.2.0",
          "state": {
            "_model_module": "@jupyter-widgets/base",
            "_model_module_version": "1.2.0",
            "_model_name": "LayoutModel",
            "_view_count": null,
            "_view_module": "@jupyter-widgets/base",
            "_view_module_version": "1.2.0",
            "_view_name": "LayoutView",
            "align_content": null,
            "align_items": null,
            "align_self": null,
            "border": null,
            "bottom": null,
            "display": null,
            "flex": null,
            "flex_flow": null,
            "grid_area": null,
            "grid_auto_columns": null,
            "grid_auto_flow": null,
            "grid_auto_rows": null,
            "grid_column": null,
            "grid_gap": null,
            "grid_row": null,
            "grid_template_areas": null,
            "grid_template_columns": null,
            "grid_template_rows": null,
            "height": null,
            "justify_content": null,
            "justify_items": null,
            "left": null,
            "margin": null,
            "max_height": null,
            "max_width": null,
            "min_height": null,
            "min_width": null,
            "object_fit": null,
            "object_position": null,
            "order": null,
            "overflow": null,
            "overflow_x": null,
            "overflow_y": null,
            "padding": null,
            "right": null,
            "top": null,
            "visibility": null,
            "width": null
          }
        }
      }
    }
  },
  "cells": [
    {
      "cell_type": "code",
      "execution_count": 1,
      "metadata": {
        "colab": {
          "base_uri": "https://localhost:8080/"
        },
        "id": "qUJVJugQt7Ll",
        "outputId": "5d69e31e-e374-48e2-8d7c-29e974272690"
      },
      "outputs": [
        {
          "output_type": "stream",
          "name": "stdout",
          "text": [
            "Vocabulary Size: 1007\n",
            "Model: \"sequential\"\n",
            "_________________________________________________________________\n",
            " Layer (type)                Output Shape              Param #   \n",
            "=================================================================\n",
            " embedding (Embedding)       (None, 11, 11)            11077     \n",
            "                                                                 \n",
            " lstm (LSTM)                 (None, 11, 50)            12400     \n",
            "                                                                 \n",
            " lstm_1 (LSTM)               (None, 50)                20200     \n",
            "                                                                 \n",
            " dense (Dense)               (None, 50)                2550      \n",
            "                                                                 \n",
            " dense_1 (Dense)             (None, 1007)              51357     \n",
            "                                                                 \n",
            "=================================================================\n",
            "Total params: 97584 (381.19 KB)\n",
            "Trainable params: 97584 (381.19 KB)\n",
            "Non-trainable params: 0 (0.00 Byte)\n",
            "_________________________________________________________________\n",
            "Epoch 1/50\n",
            "124/124 - 10s - loss: 5.8884 - accuracy: 0.0623 - 10s/epoch - 81ms/step\n",
            "Epoch 2/50\n",
            "124/124 - 3s - loss: 5.3794 - accuracy: 0.0785 - 3s/epoch - 22ms/step\n",
            "Epoch 3/50\n",
            "124/124 - 2s - loss: 5.1633 - accuracy: 0.1053 - 2s/epoch - 13ms/step\n",
            "Epoch 4/50\n",
            "124/124 - 2s - loss: 4.9526 - accuracy: 0.1393 - 2s/epoch - 13ms/step\n",
            "Epoch 5/50\n",
            "124/124 - 2s - loss: 4.7855 - accuracy: 0.1605 - 2s/epoch - 13ms/step\n",
            "Epoch 6/50\n",
            "124/124 - 2s - loss: 4.6035 - accuracy: 0.1874 - 2s/epoch - 16ms/step\n",
            "Epoch 7/50\n",
            "124/124 - 3s - loss: 4.4158 - accuracy: 0.2120 - 3s/epoch - 22ms/step\n",
            "Epoch 8/50\n",
            "124/124 - 3s - loss: 4.2651 - accuracy: 0.2231 - 3s/epoch - 24ms/step\n",
            "Epoch 9/50\n",
            "124/124 - 2s - loss: 4.1345 - accuracy: 0.2342 - 2s/epoch - 19ms/step\n",
            "Epoch 10/50\n",
            "124/124 - 2s - loss: 3.9954 - accuracy: 0.2456 - 2s/epoch - 13ms/step\n",
            "Epoch 11/50\n",
            "124/124 - 2s - loss: 3.8712 - accuracy: 0.2535 - 2s/epoch - 19ms/step\n",
            "Epoch 12/50\n",
            "124/124 - 4s - loss: 3.7613 - accuracy: 0.2677 - 4s/epoch - 33ms/step\n",
            "Epoch 13/50\n",
            "124/124 - 3s - loss: 3.6596 - accuracy: 0.2715 - 3s/epoch - 25ms/step\n",
            "Epoch 14/50\n",
            "124/124 - 3s - loss: 3.5524 - accuracy: 0.2831 - 3s/epoch - 23ms/step\n",
            "Epoch 15/50\n",
            "124/124 - 2s - loss: 3.4599 - accuracy: 0.2846 - 2s/epoch - 14ms/step\n",
            "Epoch 16/50\n",
            "124/124 - 2s - loss: 3.3759 - accuracy: 0.2996 - 2s/epoch - 13ms/step\n",
            "Epoch 17/50\n",
            "124/124 - 2s - loss: 3.2835 - accuracy: 0.3077 - 2s/epoch - 16ms/step\n",
            "Epoch 18/50\n",
            "124/124 - 3s - loss: 3.1997 - accuracy: 0.3127 - 3s/epoch - 21ms/step\n",
            "Epoch 19/50\n",
            "124/124 - 2s - loss: 3.1108 - accuracy: 0.3206 - 2s/epoch - 13ms/step\n",
            "Epoch 20/50\n",
            "124/124 - 2s - loss: 3.0261 - accuracy: 0.3327 - 2s/epoch - 13ms/step\n",
            "Epoch 21/50\n",
            "124/124 - 2s - loss: 2.9489 - accuracy: 0.3343 - 2s/epoch - 13ms/step\n",
            "Epoch 22/50\n",
            "124/124 - 2s - loss: 2.8633 - accuracy: 0.3446 - 2s/epoch - 13ms/step\n",
            "Epoch 23/50\n",
            "124/124 - 2s - loss: 2.7938 - accuracy: 0.3472 - 2s/epoch - 13ms/step\n",
            "Epoch 24/50\n",
            "124/124 - 2s - loss: 2.7312 - accuracy: 0.3619 - 2s/epoch - 13ms/step\n",
            "Epoch 25/50\n",
            "124/124 - 3s - loss: 2.6676 - accuracy: 0.3576 - 3s/epoch - 21ms/step\n",
            "Epoch 26/50\n",
            "124/124 - 2s - loss: 2.6004 - accuracy: 0.3735 - 2s/epoch - 16ms/step\n",
            "Epoch 27/50\n",
            "124/124 - 2s - loss: 2.5404 - accuracy: 0.3816 - 2s/epoch - 13ms/step\n",
            "Epoch 28/50\n",
            "124/124 - 2s - loss: 2.4459 - accuracy: 0.3867 - 2s/epoch - 13ms/step\n",
            "Epoch 29/50\n",
            "124/124 - 2s - loss: 2.3804 - accuracy: 0.3998 - 2s/epoch - 13ms/step\n",
            "Epoch 30/50\n",
            "124/124 - 2s - loss: 2.3072 - accuracy: 0.4178 - 2s/epoch - 13ms/step\n",
            "Epoch 31/50\n",
            "124/124 - 2s - loss: 2.2359 - accuracy: 0.4224 - 2s/epoch - 13ms/step\n",
            "Epoch 32/50\n",
            "124/124 - 2s - loss: 2.2033 - accuracy: 0.4353 - 2s/epoch - 17ms/step\n",
            "Epoch 33/50\n",
            "124/124 - 2s - loss: 2.1346 - accuracy: 0.4434 - 2s/epoch - 19ms/step\n",
            "Epoch 34/50\n",
            "124/124 - 2s - loss: 2.0399 - accuracy: 0.4576 - 2s/epoch - 13ms/step\n",
            "Epoch 35/50\n",
            "124/124 - 2s - loss: 2.0407 - accuracy: 0.4568 - 2s/epoch - 13ms/step\n",
            "Epoch 36/50\n",
            "124/124 - 2s - loss: 1.9869 - accuracy: 0.4718 - 2s/epoch - 13ms/step\n",
            "Epoch 37/50\n",
            "124/124 - 2s - loss: 1.8805 - accuracy: 0.4870 - 2s/epoch - 13ms/step\n",
            "Epoch 38/50\n",
            "124/124 - 2s - loss: 1.8181 - accuracy: 0.5082 - 2s/epoch - 13ms/step\n",
            "Epoch 39/50\n",
            "124/124 - 2s - loss: 1.7694 - accuracy: 0.5085 - 2s/epoch - 13ms/step\n",
            "Epoch 40/50\n",
            "124/124 - 3s - loss: 1.7441 - accuracy: 0.5196 - 3s/epoch - 21ms/step\n",
            "Epoch 41/50\n",
            "124/124 - 2s - loss: 1.7128 - accuracy: 0.5290 - 2s/epoch - 15ms/step\n",
            "Epoch 42/50\n",
            "124/124 - 2s - loss: 1.6348 - accuracy: 0.5472 - 2s/epoch - 13ms/step\n",
            "Epoch 43/50\n",
            "124/124 - 2s - loss: 1.6134 - accuracy: 0.5470 - 2s/epoch - 13ms/step\n",
            "Epoch 44/50\n",
            "124/124 - 2s - loss: 1.5815 - accuracy: 0.5538 - 2s/epoch - 13ms/step\n",
            "Epoch 45/50\n",
            "124/124 - 2s - loss: 1.5096 - accuracy: 0.5690 - 2s/epoch - 13ms/step\n",
            "Epoch 46/50\n",
            "124/124 - 2s - loss: 1.4635 - accuracy: 0.5855 - 2s/epoch - 13ms/step\n",
            "Epoch 47/50\n",
            "124/124 - 2s - loss: 1.4213 - accuracy: 0.5938 - 2s/epoch - 17ms/step\n",
            "Epoch 48/50\n",
            "124/124 - 2s - loss: 1.3977 - accuracy: 0.5986 - 2s/epoch - 19ms/step\n",
            "Epoch 49/50\n",
            "124/124 - 2s - loss: 1.3491 - accuracy: 0.6095 - 2s/epoch - 13ms/step\n",
            "Epoch 50/50\n",
            "124/124 - 2s - loss: 1.3052 - accuracy: 0.6295 - 2s/epoch - 14ms/step\n"
          ]
        },
        {
          "output_type": "stream",
          "name": "stderr",
          "text": [
            "/usr/local/lib/python3.10/dist-packages/keras/src/engine/training.py:3103: UserWarning: You are saving your model as an HDF5 file via `model.save()`. This file format is considered legacy. We recommend using instead the native Keras format, e.g. `model.save('my_model.keras')`.\n",
            "  saving_api.save_model(\n"
          ]
        }
      ],
      "source": [
        "import pandas as pd\n",
        "import numpy as np\n",
        "from keras.preprocessing.text import Tokenizer\n",
        "from keras.preprocessing.sequence import pad_sequences\n",
        "from keras.models import Sequential\n",
        "from keras.layers import LSTM, Dense, Embedding, Dropout\n",
        "from keras.callbacks import EarlyStopping\n",
        "from tensorflow.keras.optimizers import Adam\n",
        "import os\n",
        "from matplotlib import pyplot as plt\n",
        "\n",
        "# Step 1: Load data\n",
        "df = pd.read_excel('diploma.xlsx')\n",
        "\n",
        "# Step 2: Text preprocessing\n",
        "# Combine all text data that the model should learn from\n",
        "all_text = df['theme'].str.cat(sep=' ') #tema\n",
        "\n",
        "# Tokenization\n",
        "tokenizer = Tokenizer()\n",
        "tokenizer.fit_on_texts([all_text])\n",
        "encoded = tokenizer.texts_to_sequences([all_text])[0]\n",
        "\n",
        "# Determine vocabulary size\n",
        "vocab_size = len(tokenizer.word_index) + 1\n",
        "print('Vocabulary Size:', vocab_size)\n",
        "\n",
        "# Create sequences\n",
        "sequence_length = 11\n",
        "sequences = []\n",
        "for i in range(sequence_length, len(encoded)):\n",
        "    sequence = encoded[i-sequence_length:i+1]\n",
        "    sequences.append(sequence)\n",
        "\n",
        "sequences = np.array(sequences)\n",
        "\n",
        "# Split into X and y\n",
        "X, y = sequences[:,:-1], sequences[:,-1]\n",
        "y = np.eye(vocab_size)[y]  # One hot encoding\n",
        "\n",
        "# Step 3: Model setup\n",
        "model = Sequential()\n",
        "model.add(Embedding(vocab_size, 11, input_length=sequence_length))\n",
        "model.add(LSTM(50, return_sequences=True))\n",
        "model.add(LSTM(50))\n",
        "model.add(Dense(50, activation='relu'))\n",
        "model.add(Dense(vocab_size, activation='softmax'))\n",
        "\n",
        "# Compile the model\n",
        "model.compile(loss='categorical_crossentropy', optimizer=Adam(learning_rate=0.01), metrics=['accuracy'])\n",
        "\n",
        "# Summarize the model\n",
        "model.summary()\n",
        "\n",
        "# Fit the model\n",
        "model.fit(X, y, epochs=50, verbose=2, callbacks=[EarlyStopping(monitor='loss', patience=5)])\n",
        "\n",
        "# Function to generate text\n",
        "def generate_text(seed_text, next_words, model, max_sequence_len):\n",
        "    for _ in range(next_words):\n",
        "        token_list = tokenizer.texts_to_sequences([seed_text])[0]\n",
        "        token_list = pad_sequences([token_list], maxlen=max_sequence_len, padding='pre')\n",
        "        predicted_probs = model.predict(token_list, verbose=0)\n",
        "        predicted_index = np.argmax(predicted_probs, axis=-1)[0]\n",
        "        output_word = ''\n",
        "        for word, index in tokenizer.word_index.items():\n",
        "            if index == predicted_index:\n",
        "                output_word = word\n",
        "                break\n",
        "        seed_text += \" \" + output_word\n",
        "    return seed_text\n",
        "\n",
        "model.save('thesis_generator_model.h5')\n",
        "\n"
      ]
    },
    {
      "cell_type": "code",
      "source": [
        "# Generate a new theme\n",
        "#field1 = 'web'\n",
        "#field2 = 'security'\n",
        "#seed_text = field1\n",
        "#seed_text = f\"{field1} and {field2}\"\n",
        "#new_text=generate_text(seed_text, 11, model, sequence_length)\n",
        "#print(new_text)"
      ],
      "metadata": {
        "colab": {
          "base_uri": "https://localhost:8080/"
        },
        "id": "3tanDpeZuCVH",
        "outputId": "620e1c14-d761-4e1f-f0a8-b913ae9081e4"
      },
      "execution_count": 2,
      "outputs": [
        {
          "output_type": "stream",
          "name": "stdout",
          "text": [
            "web and security from structure generation creation of an application for the management of\n"
          ]
        }
      ]
    },
    {
      "cell_type": "code",
      "source": [
        "import ipywidgets as widgets\n",
        "from IPython.display import display, clear_output\n",
        "\n",
        "# Assuming your notebook is already running necessary imports and initializations"
      ],
      "metadata": {
        "id": "iR16fO0BuIqa"
      },
      "execution_count": 3,
      "outputs": []
    },
    {
      "cell_type": "code",
      "source": [
        "#field1_input = widgets.Text(description='Field 1:')\n",
        "seed_text_input = widgets.Text(description='Field:')\n",
        "next_words_input = widgets.Text(description='next_words:')\n",
        "model_input = widgets.Text(description='Model:')\n",
        "max_sequence_len_input = widgets.Text(description='max_sequence_len:')\n",
        "gjenero_button = widgets.Button(description='Gjenero')\n",
        "#rekomando_button = widgets.Button(description='Rekomando')\n",
        "output = widgets.Output()\n",
        "\n",
        "def on_gjenero_clicked(b):\n",
        "    with output:\n",
        "        clear_output()\n",
        "        seed_text = seed_text_input.value\n",
        "        #author = author_input.value\n",
        "        result = generate_text(seed_text, 11, model, sequence_length)\n",
        "        print(result)\n",
        "\n",
        "\n",
        "gjenero_button.on_click(on_gjenero_clicked)\n"
      ],
      "metadata": {
        "id": "34Abbe1muQtH"
      },
      "execution_count": 25,
      "outputs": []
    },
    {
      "cell_type": "code",
      "source": [
        "display(seed_text_input, gjenero_button, output)"
      ],
      "metadata": {
        "colab": {
          "base_uri": "https://localhost:8080/",
          "height": 98,
          "referenced_widgets": [
            "01991c42394b492888e7cdbdf75af439",
            "47ef4d764916400d88b7c0968d589b32",
            "6f06d4d91a6d498a8ae36f9d7a80c2c3",
            "252a67b5f8f242d985ce65fb64ebd163",
            "feb2fdf2b8904eea95088d67042292dd",
            "f6234c41a8594f0491bbd0a277ece686",
            "0372d22df2d34f828f498deabcc39ecd",
            "e01dbe5000884eb184b9f88f0473fd86"
          ]
        },
        "id": "q7mWT7S5uS1Y",
        "outputId": "288e89e1-d01c-4f9b-a1c1-0a368b2909d1"
      },
      "execution_count": 26,
      "outputs": [
        {
          "output_type": "display_data",
          "data": {
            "text/plain": [
              "Text(value='', description='Field:')"
            ],
            "application/vnd.jupyter.widget-view+json": {
              "version_major": 2,
              "version_minor": 0,
              "model_id": "01991c42394b492888e7cdbdf75af439"
            }
          },
          "metadata": {}
        },
        {
          "output_type": "display_data",
          "data": {
            "text/plain": [
              "Button(description='Gjenero', style=ButtonStyle())"
            ],
            "application/vnd.jupyter.widget-view+json": {
              "version_major": 2,
              "version_minor": 0,
              "model_id": "252a67b5f8f242d985ce65fb64ebd163"
            }
          },
          "metadata": {}
        },
        {
          "output_type": "display_data",
          "data": {
            "text/plain": [
              "Output()"
            ],
            "application/vnd.jupyter.widget-view+json": {
              "version_major": 2,
              "version_minor": 0,
              "model_id": "0372d22df2d34f828f498deabcc39ecd"
            }
          },
          "metadata": {}
        }
      ]
    }
  ]
}